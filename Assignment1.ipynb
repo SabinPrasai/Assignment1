{
 "cells": [
  {
   "cell_type": "markdown",
   "id": "73b7d6d1-f835-41d0-a950-1fd26cd13bf7",
   "metadata": {},
   "source": [
    "Sabin Prasai 45292167"
   ]
  },
  {
   "cell_type": "code",
   "execution_count": null,
   "id": "2aa0720b-e955-45e6-a1ac-3131199b9a26",
   "metadata": {},
   "outputs": [],
   "source": []
  }
 ],
 "metadata": {
  "kernelspec": {
   "display_name": "Python 3 (ipykernel)",
   "language": "python",
   "name": "python3"
  },
  "language_info": {
   "codemirror_mode": {
    "name": "ipython",
    "version": 3
   },
   "file_extension": ".py",
   "mimetype": "text/x-python",
   "name": "python",
   "nbconvert_exporter": "python",
   "pygments_lexer": "ipython3",
   "version": "3.10.12"
  }
 },
 "nbformat": 4,
 "nbformat_minor": 5
}
